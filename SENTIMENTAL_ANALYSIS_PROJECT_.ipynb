{
  "nbformat": 4,
  "nbformat_minor": 0,
  "metadata": {
    "colab": {
      "provenance": []
    },
    "kernelspec": {
      "name": "python3",
      "display_name": "Python 3"
    },
    "language_info": {
      "name": "python"
    }
  },
  "cells": [
    {
      "cell_type": "code",
      "execution_count": 4,
      "metadata": {
        "colab": {
          "base_uri": "https://localhost:8080/"
        },
        "id": "GdnNcpASk9_t",
        "outputId": "bf92bf92-5cdc-44c8-a2e3-d677bbe9a1ed"
      },
      "outputs": [
        {
          "output_type": "stream",
          "name": "stderr",
          "text": [
            "[nltk_data] Downloading package punkt to /root/nltk_data...\n",
            "[nltk_data]   Package punkt is already up-to-date!\n",
            "[nltk_data] Downloading package stopwords to /root/nltk_data...\n",
            "[nltk_data]   Package stopwords is already up-to-date!\n",
            "[nltk_data] Downloading package averaged_perceptron_tagger to\n",
            "[nltk_data]     /root/nltk_data...\n",
            "[nltk_data]   Package averaged_perceptron_tagger is already up-to-\n",
            "[nltk_data]       date!\n",
            "[nltk_data] Downloading package wordnet to /root/nltk_data...\n",
            "[nltk_data]   Package wordnet is already up-to-date!\n"
          ]
        },
        {
          "output_type": "stream",
          "name": "stdout",
          "text": [
            "Tokens: ['The', 'product', 'is', 'not', 'good']\n",
            "Filtered Tokens: ['product', 'good']\n",
            "Stemmed Tokens: ['product', 'good']\n",
            "Lemmatized Tokens: ['product', 'good']\n",
            "POS Tags: [('product', 'NN'), ('good', 'JJ')]\n",
            "Sentiment_label: Negative\n"
          ]
        }
      ],
      "source": [
        "import nltk\n",
        "from nltk.corpus import stopwords\n",
        "from nltk.tokenize import word_tokenize\n",
        "from nltk.stem import PorterStemmer, WordNetLemmatizer\n",
        "from textblob import TextBlob\n",
        "nltk.download('punkt')\n",
        "nltk.download('stopwords')\n",
        "nltk.download('averaged_perceptron_tagger')\n",
        "nltk.download('wordnet')\n",
        "text =\"The product is not good\"\n",
        "tokens=word_tokenize(text)\n",
        "print(\"Tokens:\",tokens)\n",
        "stop_words = set(stopwords.words('english'))\n",
        "filtered_tokens = [word for word in tokens if word.lower() not in stop_words]\n",
        "print(\"Filtered Tokens:\",filtered_tokens)\n",
        "ps = PorterStemmer()\n",
        "stemmed_tokens = [ps.stem(word) for word in filtered_tokens]\n",
        "print(\"Stemmed Tokens:\",stemmed_tokens)\n",
        "lemmatizer = WordNetLemmatizer()\n",
        "lemmatized_tokens = [lemmatizer.lemmatize(word)for word in filtered_tokens]\n",
        "print(\"Lemmatized Tokens:\",lemmatized_tokens)\n",
        "pos_tags = nltk.pos_tag(filtered_tokens)\n",
        "print(\"POS Tags:\",pos_tags)\n",
        "blob = TextBlob(text)\n",
        "polarity = blob.sentiment.polarity\n",
        "if polarity > 0:\n",
        "     sentiment_label = \"Positive\"\n",
        "elif polarity < 0:\n",
        "     sentiment_label = \"Negative\"\n",
        "else:\n",
        "     sentiment_label = \"Neutral\"\n",
        "print(f\"Sentiment_label: {sentiment_label}\")"
      ]
    }
  ]
}